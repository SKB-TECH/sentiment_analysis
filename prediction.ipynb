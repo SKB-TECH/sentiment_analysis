{
 "cells": [
  {
   "cell_type": "code",
   "execution_count": 1,
   "id": "43c829c3",
   "metadata": {},
   "outputs": [],
   "source": [
    "import numpy as np\n",
    "import tensorflow as tf\n",
    "from tensorflow.keras.datasets import imdb\n",
    "from tensorflow.keras.preprocessing import sequence\n",
    "from tensorflow.keras.models import load_model"
   ]
  },
  {
   "cell_type": "code",
   "execution_count": 3,
   "id": "309d9b09",
   "metadata": {},
   "outputs": [],
   "source": [
    "word_index=imdb.get_word_index()\n",
    "reverse_word_index={value: key for key, value in word_index.items()}"
   ]
  },
  {
   "cell_type": "code",
   "execution_count": 4,
   "id": "e0d49a05",
   "metadata": {},
   "outputs": [
    {
     "name": "stderr",
     "output_type": "stream",
     "text": [
      "WARNING:absl:Compiled the loaded model, but the compiled metrics have yet to be built. `model.compile_metrics` will be empty until you train or evaluate the model.\n"
     ]
    },
    {
     "data": {
      "text/html": [
       "<pre style=\"white-space:pre;overflow-x:auto;line-height:normal;font-family:Menlo,'DejaVu Sans Mono',consolas,'Courier New',monospace\"><span style=\"font-weight: bold\">Model: \"sequential_8\"</span>\n",
       "</pre>\n"
      ],
      "text/plain": [
       "\u001b[1mModel: \"sequential_8\"\u001b[0m\n"
      ]
     },
     "metadata": {},
     "output_type": "display_data"
    },
    {
     "data": {
      "text/html": [
       "<pre style=\"white-space:pre;overflow-x:auto;line-height:normal;font-family:Menlo,'DejaVu Sans Mono',consolas,'Courier New',monospace\">┏━━━━━━━━━━━━━━━━━━━━━━━━━━━━━━━━━┳━━━━━━━━━━━━━━━━━━━━━━━━┳━━━━━━━━━━━━━━━┓\n",
       "┃<span style=\"font-weight: bold\"> Layer (type)                    </span>┃<span style=\"font-weight: bold\"> Output Shape           </span>┃<span style=\"font-weight: bold\">       Param # </span>┃\n",
       "┡━━━━━━━━━━━━━━━━━━━━━━━━━━━━━━━━━╇━━━━━━━━━━━━━━━━━━━━━━━━╇━━━━━━━━━━━━━━━┩\n",
       "│ embedding_8 (<span style=\"color: #0087ff; text-decoration-color: #0087ff\">Embedding</span>)         │ (<span style=\"color: #00af00; text-decoration-color: #00af00\">32</span>, <span style=\"color: #00af00; text-decoration-color: #00af00\">500</span>, <span style=\"color: #00af00; text-decoration-color: #00af00\">128</span>)         │     <span style=\"color: #00af00; text-decoration-color: #00af00\">1,280,000</span> │\n",
       "├─────────────────────────────────┼────────────────────────┼───────────────┤\n",
       "│ simple_rnn_6 (<span style=\"color: #0087ff; text-decoration-color: #0087ff\">SimpleRNN</span>)        │ (<span style=\"color: #00af00; text-decoration-color: #00af00\">32</span>, <span style=\"color: #00af00; text-decoration-color: #00af00\">128</span>)              │        <span style=\"color: #00af00; text-decoration-color: #00af00\">32,896</span> │\n",
       "├─────────────────────────────────┼────────────────────────┼───────────────┤\n",
       "│ dense_6 (<span style=\"color: #0087ff; text-decoration-color: #0087ff\">Dense</span>)                 │ (<span style=\"color: #00af00; text-decoration-color: #00af00\">32</span>, <span style=\"color: #00af00; text-decoration-color: #00af00\">1</span>)                │           <span style=\"color: #00af00; text-decoration-color: #00af00\">129</span> │\n",
       "└─────────────────────────────────┴────────────────────────┴───────────────┘\n",
       "</pre>\n"
      ],
      "text/plain": [
       "┏━━━━━━━━━━━━━━━━━━━━━━━━━━━━━━━━━┳━━━━━━━━━━━━━━━━━━━━━━━━┳━━━━━━━━━━━━━━━┓\n",
       "┃\u001b[1m \u001b[0m\u001b[1mLayer (type)                   \u001b[0m\u001b[1m \u001b[0m┃\u001b[1m \u001b[0m\u001b[1mOutput Shape          \u001b[0m\u001b[1m \u001b[0m┃\u001b[1m \u001b[0m\u001b[1m      Param #\u001b[0m\u001b[1m \u001b[0m┃\n",
       "┡━━━━━━━━━━━━━━━━━━━━━━━━━━━━━━━━━╇━━━━━━━━━━━━━━━━━━━━━━━━╇━━━━━━━━━━━━━━━┩\n",
       "│ embedding_8 (\u001b[38;5;33mEmbedding\u001b[0m)         │ (\u001b[38;5;34m32\u001b[0m, \u001b[38;5;34m500\u001b[0m, \u001b[38;5;34m128\u001b[0m)         │     \u001b[38;5;34m1,280,000\u001b[0m │\n",
       "├─────────────────────────────────┼────────────────────────┼───────────────┤\n",
       "│ simple_rnn_6 (\u001b[38;5;33mSimpleRNN\u001b[0m)        │ (\u001b[38;5;34m32\u001b[0m, \u001b[38;5;34m128\u001b[0m)              │        \u001b[38;5;34m32,896\u001b[0m │\n",
       "├─────────────────────────────────┼────────────────────────┼───────────────┤\n",
       "│ dense_6 (\u001b[38;5;33mDense\u001b[0m)                 │ (\u001b[38;5;34m32\u001b[0m, \u001b[38;5;34m1\u001b[0m)                │           \u001b[38;5;34m129\u001b[0m │\n",
       "└─────────────────────────────────┴────────────────────────┴───────────────┘\n"
      ]
     },
     "metadata": {},
     "output_type": "display_data"
    },
    {
     "data": {
      "text/html": [
       "<pre style=\"white-space:pre;overflow-x:auto;line-height:normal;font-family:Menlo,'DejaVu Sans Mono',consolas,'Courier New',monospace\"><span style=\"font-weight: bold\"> Total params: </span><span style=\"color: #00af00; text-decoration-color: #00af00\">1,313,027</span> (5.01 MB)\n",
       "</pre>\n"
      ],
      "text/plain": [
       "\u001b[1m Total params: \u001b[0m\u001b[38;5;34m1,313,027\u001b[0m (5.01 MB)\n"
      ]
     },
     "metadata": {},
     "output_type": "display_data"
    },
    {
     "data": {
      "text/html": [
       "<pre style=\"white-space:pre;overflow-x:auto;line-height:normal;font-family:Menlo,'DejaVu Sans Mono',consolas,'Courier New',monospace\"><span style=\"font-weight: bold\"> Trainable params: </span><span style=\"color: #00af00; text-decoration-color: #00af00\">1,313,025</span> (5.01 MB)\n",
       "</pre>\n"
      ],
      "text/plain": [
       "\u001b[1m Trainable params: \u001b[0m\u001b[38;5;34m1,313,025\u001b[0m (5.01 MB)\n"
      ]
     },
     "metadata": {},
     "output_type": "display_data"
    },
    {
     "data": {
      "text/html": [
       "<pre style=\"white-space:pre;overflow-x:auto;line-height:normal;font-family:Menlo,'DejaVu Sans Mono',consolas,'Courier New',monospace\"><span style=\"font-weight: bold\"> Non-trainable params: </span><span style=\"color: #00af00; text-decoration-color: #00af00\">0</span> (0.00 B)\n",
       "</pre>\n"
      ],
      "text/plain": [
       "\u001b[1m Non-trainable params: \u001b[0m\u001b[38;5;34m0\u001b[0m (0.00 B)\n"
      ]
     },
     "metadata": {},
     "output_type": "display_data"
    },
    {
     "data": {
      "text/html": [
       "<pre style=\"white-space:pre;overflow-x:auto;line-height:normal;font-family:Menlo,'DejaVu Sans Mono',consolas,'Courier New',monospace\"><span style=\"font-weight: bold\"> Optimizer params: </span><span style=\"color: #00af00; text-decoration-color: #00af00\">2</span> (12.00 B)\n",
       "</pre>\n"
      ],
      "text/plain": [
       "\u001b[1m Optimizer params: \u001b[0m\u001b[38;5;34m2\u001b[0m (12.00 B)\n"
      ]
     },
     "metadata": {},
     "output_type": "display_data"
    }
   ],
   "source": [
    "## load_model\n",
    "model=load_model('simple_rnn_imdb.h5')\n",
    "model.summary()"
   ]
  },
  {
   "cell_type": "code",
   "execution_count": 6,
   "id": "b295bb3d",
   "metadata": {},
   "outputs": [
    {
     "data": {
      "text/plain": [
       "[array([[ 0.8492455 , -0.59468216, -0.19291861, ...,  0.55406415,\n",
       "          0.15482607, -0.26357126],\n",
       "        [ 0.10468993, -0.05249177,  0.01722891, ...,  0.05797471,\n",
       "         -0.02026657,  0.03722661],\n",
       "        [ 0.01612031, -0.02267317, -0.09020733, ...,  0.094222  ,\n",
       "          0.03082691, -0.05056778],\n",
       "        ...,\n",
       "        [ 0.00649461, -0.07524524, -0.01087756, ...,  0.10135099,\n",
       "         -0.05110319,  0.04042367],\n",
       "        [ 0.06350953, -0.04508424, -0.06672008, ...,  0.02374193,\n",
       "         -0.04454486, -0.07610143],\n",
       "        [-0.02170948, -0.05305845,  0.09328973, ..., -0.02549925,\n",
       "         -0.08635034, -0.03693762]], dtype=float32),\n",
       " array([[-0.0210201 ,  0.07123892, -0.04794944, ...,  0.12251855,\n",
       "         -0.02222465,  0.03249465],\n",
       "        [ 0.04336859,  0.06695337, -0.16079053, ...,  0.02191002,\n",
       "          0.05725733, -0.07663017],\n",
       "        [-0.06170206, -0.18542212, -0.09348752, ..., -0.08127828,\n",
       "          0.0723983 ,  0.00510631],\n",
       "        ...,\n",
       "        [ 0.14035393,  0.137955  ,  0.05947163, ..., -0.11136248,\n",
       "          0.14915274, -0.1198424 ],\n",
       "        [-0.08454091, -0.11861187,  0.12212321, ...,  0.09880802,\n",
       "         -0.00726077, -0.0409973 ],\n",
       "        [-0.09573421,  0.03978565,  0.06323741, ...,  0.05080706,\n",
       "          0.08615506,  0.09239609]], dtype=float32),\n",
       " array([[ 0.05289948, -0.10791708, -0.06867715, ...,  0.06947386,\n",
       "         -0.06170723,  0.09693872],\n",
       "        [-0.04744969,  0.06200554,  0.11220237, ..., -0.15931761,\n",
       "          0.05123659,  0.04774928],\n",
       "        [ 0.04485193,  0.01622559, -0.10743006, ..., -0.07916623,\n",
       "         -0.03746473, -0.21023053],\n",
       "        ...,\n",
       "        [ 0.1002536 , -0.00365546,  0.06292763, ...,  0.01960271,\n",
       "         -0.01568128, -0.10787744],\n",
       "        [ 0.00922955, -0.08085781, -0.12317584, ..., -0.10075723,\n",
       "          0.06269705,  0.00782775],\n",
       "        [-0.13860631, -0.02800236,  0.3249625 , ...,  0.07677314,\n",
       "          0.03649289,  0.13971649]], dtype=float32),\n",
       " array([-6.03261311e-03,  6.92361849e-04, -1.38880336e-03,  1.76767167e-03,\n",
       "        -2.58354899e-02, -3.34544946e-03, -2.84955651e-02,  3.12652485e-03,\n",
       "        -2.47777700e-02, -2.54269857e-02, -3.41546461e-02, -1.89041663e-02,\n",
       "        -4.51121479e-03, -2.01683491e-02, -5.05294884e-03, -1.62480935e-03,\n",
       "        -4.03927127e-03, -2.95517943e-03, -3.59363593e-02, -3.83599405e-03,\n",
       "        -1.14946309e-02, -2.20737862e-03, -6.72280416e-03, -6.82936981e-04,\n",
       "        -5.80572803e-03,  8.10381025e-03, -1.54495528e-02, -1.59983675e-03,\n",
       "        -1.09429546e-02, -4.13873279e-03,  1.59289956e-03, -2.01564319e-02,\n",
       "        -5.75305335e-03, -2.65305955e-02, -7.95234751e-04, -9.57600540e-04,\n",
       "        -1.51734063e-02,  2.64080577e-02,  2.14177868e-04, -2.82308497e-02,\n",
       "        -3.37022990e-02,  7.85201509e-03, -3.67740095e-02, -3.29551101e-03,\n",
       "        -4.33586072e-04, -6.13454776e-03,  5.59611071e-04, -2.21370701e-02,\n",
       "         2.99472194e-02,  1.01248745e-03, -2.37345900e-02, -8.13210476e-03,\n",
       "        -3.11228987e-02,  2.46347231e-03, -3.12352348e-02, -1.51505489e-02,\n",
       "        -3.19700912e-02,  1.92197924e-03, -2.20089070e-02,  3.57596837e-02,\n",
       "        -2.32300069e-02,  6.72258949e-03, -6.15653628e-03, -1.52133666e-02,\n",
       "        -2.18018773e-03, -1.28922286e-02,  9.10303206e-04, -1.67382602e-02,\n",
       "        -1.45667680e-02, -6.65378524e-03, -8.73970450e-04,  5.26666827e-03,\n",
       "        -2.72072759e-03, -4.02568094e-02, -2.15427745e-02, -4.35027899e-03,\n",
       "        -5.10575203e-03, -6.22400315e-03, -1.45198172e-02,  5.56284934e-03,\n",
       "        -4.25153412e-03, -1.91311259e-02, -2.48205476e-02, -2.00379714e-02,\n",
       "        -5.40832337e-03, -2.22345553e-02, -3.63965295e-02, -1.20221209e-02,\n",
       "        -1.23355538e-02,  3.52456272e-02, -2.67861527e-03,  2.41629360e-03,\n",
       "        -1.35531565e-02, -4.33206931e-03,  2.49366998e-03, -3.27179842e-02,\n",
       "         3.09751611e-02, -5.45905484e-03,  5.99376764e-03, -4.17234600e-02,\n",
       "        -9.09170881e-03,  1.25432824e-04, -9.40319675e-04, -6.71935268e-03,\n",
       "        -1.42854499e-03, -2.52867449e-05, -1.49848266e-02, -2.43678093e-02,\n",
       "         1.76043455e-02,  2.86880825e-02,  1.83442747e-03, -1.27892569e-03,\n",
       "         1.22073842e-02,  2.67159063e-02,  1.19317984e-02, -3.74657139e-02,\n",
       "        -3.34901689e-03,  1.32417321e-04, -2.61404011e-02, -3.12679149e-02,\n",
       "         2.31056493e-02, -4.59211617e-04, -1.40623758e-02, -5.80609636e-03,\n",
       "         2.08035670e-02, -2.21011005e-02, -4.00196947e-03, -4.14811671e-02],\n",
       "       dtype=float32),\n",
       " array([[-0.05759313],\n",
       "        [-0.27867723],\n",
       "        [ 0.07250416],\n",
       "        [ 0.04845285],\n",
       "        [ 0.09327833],\n",
       "        [ 0.14133433],\n",
       "        [ 0.08665649],\n",
       "        [ 0.17372765],\n",
       "        [-0.07394944],\n",
       "        [-0.17784102],\n",
       "        [ 0.01624077],\n",
       "        [-0.1490035 ],\n",
       "        [ 0.01912696],\n",
       "        [ 0.07881375],\n",
       "        [ 0.10830993],\n",
       "        [-0.04224066],\n",
       "        [ 0.13425973],\n",
       "        [-0.23880918],\n",
       "        [ 0.10735681],\n",
       "        [-0.11690918],\n",
       "        [-0.12436938],\n",
       "        [ 0.10068056],\n",
       "        [-0.10786442],\n",
       "        [-0.12823136],\n",
       "        [ 0.04037774],\n",
       "        [-0.1465168 ],\n",
       "        [-0.6869559 ],\n",
       "        [-0.15293686],\n",
       "        [-0.00608979],\n",
       "        [ 0.09293751],\n",
       "        [-0.03317842],\n",
       "        [-0.49724934],\n",
       "        [ 0.11962871],\n",
       "        [-0.14648904],\n",
       "        [-0.06810101],\n",
       "        [ 0.1984221 ],\n",
       "        [ 0.15758102],\n",
       "        [-0.21864049],\n",
       "        [-0.2172585 ],\n",
       "        [-0.01583443],\n",
       "        [-0.37055945],\n",
       "        [-0.29188251],\n",
       "        [ 0.2612376 ],\n",
       "        [-0.3554547 ],\n",
       "        [ 0.18729311],\n",
       "        [ 0.132726  ],\n",
       "        [-0.22135118],\n",
       "        [-0.0946403 ],\n",
       "        [-0.12196133],\n",
       "        [-0.05072016],\n",
       "        [-0.20419365],\n",
       "        [ 0.22736298],\n",
       "        [ 0.42699605],\n",
       "        [-0.11043312],\n",
       "        [ 0.15424533],\n",
       "        [-0.06253977],\n",
       "        [-0.40447468],\n",
       "        [-0.04674196],\n",
       "        [ 0.50582176],\n",
       "        [-0.05562175],\n",
       "        [-0.26227698],\n",
       "        [-0.04502286],\n",
       "        [ 0.1775604 ],\n",
       "        [-0.01363618],\n",
       "        [ 0.11547877],\n",
       "        [ 0.17356968],\n",
       "        [-0.18504912],\n",
       "        [ 0.03681412],\n",
       "        [-0.15518644],\n",
       "        [-0.01424066],\n",
       "        [-0.03144881],\n",
       "        [ 0.7303432 ],\n",
       "        [-0.23092625],\n",
       "        [ 0.17076446],\n",
       "        [-0.17948821],\n",
       "        [ 0.6614728 ],\n",
       "        [ 0.09193773],\n",
       "        [-0.19783899],\n",
       "        [ 0.09911221],\n",
       "        [ 0.15078999],\n",
       "        [ 0.11408534],\n",
       "        [ 0.627935  ],\n",
       "        [ 0.616612  ],\n",
       "        [-0.1477153 ],\n",
       "        [-0.18036103],\n",
       "        [ 0.17568074],\n",
       "        [-0.16636108],\n",
       "        [-0.1264536 ],\n",
       "        [ 0.10018093],\n",
       "        [-0.66060406],\n",
       "        [ 0.12725578],\n",
       "        [-0.00249593],\n",
       "        [-0.66977286],\n",
       "        [ 0.06663901],\n",
       "        [-0.21960428],\n",
       "        [-0.07742023],\n",
       "        [-0.18366933],\n",
       "        [ 0.06970612],\n",
       "        [ 0.2645502 ],\n",
       "        [-0.02549469],\n",
       "        [ 0.10559166],\n",
       "        [ 0.06496245],\n",
       "        [-0.14621127],\n",
       "        [-0.11524481],\n",
       "        [-0.11817477],\n",
       "        [ 0.4194232 ],\n",
       "        [-0.19015838],\n",
       "        [-0.12717283],\n",
       "        [-0.08160079],\n",
       "        [ 0.19115846],\n",
       "        [-0.17265128],\n",
       "        [-0.10212666],\n",
       "        [ 0.13961715],\n",
       "        [ 0.02496738],\n",
       "        [ 0.54513454],\n",
       "        [ 0.00958179],\n",
       "        [-0.07387562],\n",
       "        [-0.12363444],\n",
       "        [ 0.03840153],\n",
       "        [ 0.1830397 ],\n",
       "        [-0.19604371],\n",
       "        [ 0.02325891],\n",
       "        [ 0.12573537],\n",
       "        [-0.18120368],\n",
       "        [ 0.1543603 ],\n",
       "        [-0.03313477],\n",
       "        [ 0.13722919],\n",
       "        [ 0.05319481]], dtype=float32),\n",
       " array([-0.2801875], dtype=float32)]"
      ]
     },
     "execution_count": 6,
     "metadata": {},
     "output_type": "execute_result"
    }
   ],
   "source": [
    "model.get_weights()"
   ]
  },
  {
   "cell_type": "code",
   "execution_count": 8,
   "id": "fd76e685",
   "metadata": {},
   "outputs": [],
   "source": [
    " # Step 2: Help function\n",
    " # Function to decode reviews\n",
    "\n",
    "def decode_review(encoded_review) :\n",
    "    return ' '.join([reverse_word_index.get(i-3,'?') for i in encoded_review])\n",
    "\n",
    "# function to preprocess user input\n",
    "def preprocess_text(texte):\n",
    "    words=texte.lower().split()\n",
    "    encoded_review=[word_index.get(word,2)+3 for word in words]\n",
    "    padded_review=sequence.pad_sequences([encoded_review],maxlen=500)\n",
    "    return padded_review"
   ]
  },
  {
   "cell_type": "code",
   "execution_count": 9,
   "id": "fc336b7e",
   "metadata": {},
   "outputs": [],
   "source": [
    "## prediction function\n",
    "def prediction_sentiment(review):\n",
    "    preprocessing_input=preprocess_text(review)\n",
    "    prediction=model.predict(preprocessing_input)\n",
    "    sentiment='Positive' if prediction[0][0]>0.5 else 'Negative'\n",
    "\n",
    "    return sentiment,prediction[0][0]"
   ]
  },
  {
   "cell_type": "code",
   "execution_count": 21,
   "id": "cb9c61f0",
   "metadata": {},
   "outputs": [
    {
     "name": "stdout",
     "output_type": "stream",
     "text": [
      "\u001b[1m1/1\u001b[0m \u001b[32m━━━━━━━━━━━━━━━━━━━━\u001b[0m\u001b[37m\u001b[0m \u001b[1m0s\u001b[0m 19ms/step\n"
     ]
    }
   ],
   "source": [
    "example_review=\"This movie was fantastic! The acting was great and the plot was thrilling.\"\n",
    "example_two='This movie was awful! The acting was wooden and the plot was unoriginal'\n",
    "sentiment,score=prediction_sentiment(example_two)"
   ]
  },
  {
   "cell_type": "code",
   "execution_count": 22,
   "id": "f549118a",
   "metadata": {},
   "outputs": [
    {
     "data": {
      "text/plain": [
       "('Positive', 0.90047455)"
      ]
     },
     "execution_count": 22,
     "metadata": {},
     "output_type": "execute_result"
    }
   ],
   "source": [
    "sentiment,score"
   ]
  },
  {
   "cell_type": "code",
   "execution_count": null,
   "id": "5914486c",
   "metadata": {},
   "outputs": [],
   "source": []
  }
 ],
 "metadata": {
  "kernelspec": {
   "display_name": "coursai",
   "language": "python",
   "name": "python3"
  },
  "language_info": {
   "codemirror_mode": {
    "name": "ipython",
    "version": 3
   },
   "file_extension": ".py",
   "mimetype": "text/x-python",
   "name": "python",
   "nbconvert_exporter": "python",
   "pygments_lexer": "ipython3",
   "version": "3.12.0"
  }
 },
 "nbformat": 4,
 "nbformat_minor": 5
}
